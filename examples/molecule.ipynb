{
 "cells": [
  {
   "cell_type": "code",
   "execution_count": 1,
   "metadata": {},
   "outputs": [],
   "source": [
    "import qchem"
   ]
  },
  {
   "cell_type": "code",
   "execution_count": 2,
   "metadata": {},
   "outputs": [
    {
     "data": {
      "text/plain": [
       "['C2H6',\n",
       " 'CH4',\n",
       " 'C2H4',\n",
       " 'CO',\n",
       " 'C2H2',\n",
       " 'H2O',\n",
       " 'CO2',\n",
       " 'C3H4',\n",
       " 'CH3F',\n",
       " 'CF2O',\n",
       " 'LiH',\n",
       " 'CHF3',\n",
       " 'CH3CN',\n",
       " 'H2',\n",
       " 'CH3NH2',\n",
       " 'CH2O',\n",
       " 'N2',\n",
       " 'CH2CO',\n",
       " 'CH3CHO',\n",
       " 'O2',\n",
       " 'CH3NO2']"
      ]
     },
     "execution_count": 2,
     "metadata": {},
     "output_type": "execute_result"
    }
   ],
   "source": [
    "qchem.chemistry.available_molecules(\"../data/default_molecules\")"
   ]
  },
  {
   "cell_type": "code",
   "execution_count": 3,
   "metadata": {},
   "outputs": [
    {
     "data": {
      "text/plain": [
       "H2: \n",
       "\tH \t0.000 0.000 0.740\n",
       "\tH \t0.000 0.000 0.000\n",
       "\n",
       "basis: None\n",
       "active space: None"
      ]
     },
     "execution_count": 3,
     "metadata": {},
     "output_type": "execute_result"
    }
   ],
   "source": [
    "qchem.chemistry.Molecule.from_xyz(\"H2\", \"../data/default_molecules\")"
   ]
  }
 ],
 "metadata": {
  "kernelspec": {
   "display_name": "q-chem",
   "language": "python",
   "name": "python3"
  },
  "language_info": {
   "codemirror_mode": {
    "name": "ipython",
    "version": 3
   },
   "file_extension": ".py",
   "mimetype": "text/x-python",
   "name": "python",
   "nbconvert_exporter": "python",
   "pygments_lexer": "ipython3",
   "version": "3.12.9"
  }
 },
 "nbformat": 4,
 "nbformat_minor": 2
}
